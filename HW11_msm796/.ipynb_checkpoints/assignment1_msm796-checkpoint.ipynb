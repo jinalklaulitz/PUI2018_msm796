{
 "cells": [
  {
   "cell_type": "markdown",
   "metadata": {
    "run_control": {
     "frozen": false,
     "read_only": false
    }
   },
   "source": [
    "# TIME SERIES ANALYSIS\n",
    "\n",
    "# Goal: Find outliers, trends and periodicity in the MTA turnstyle data\n",
    "    \n",
    "\n",
    "## DATA:\n",
    "MTA subway fares. It is a complete dataset of\n",
    "rides logged by card swipes for 600 Manhattan stations.\n",
    "\n",
    "The data was organized  by Sina Kashuk at CUSP.\n",
    "\n",
    "It contains 23 different subway card types \n",
    "(e.g. monthly pass, daily pass, Act for Disability pass…) as follows:\n"
   ]
  },
  {
   "cell_type": "code",
   "execution_count": 2,
   "metadata": {},
   "outputs": [
    {
     "name": "stderr",
     "output_type": "stream",
     "text": [
      "/usr/local/Anaconda3-5.0.0-Linux-x86_64/envs/ADS/lib/python3.5/site-packages/pysal/__init__.py:65: VisibleDeprecationWarning: PySAL's API will be changed on 2018-12-31. The last release made with this API is version 1.14.4. A preview of the next API version is provided in the `pysal` 2.0 prelease candidate. The API changes and a guide on how to change imports is provided at https://migrating.pysal.org\n",
      "  ), VisibleDeprecationWarning)\n"
     ]
    }
   ],
   "source": [
    "#declare libraries and parameters\n",
    "try:\n",
    "    import urllib2 as urllib\n",
    "except ImportError:\n",
    "    import urllib.request as urllib\n",
    "import datetime\n",
    "from dateutil.relativedelta import relativedelta \n",
    "import os\n",
    "import requests \n",
    "import zipfile \n",
    "import io \n",
    "import pandas as pd\n",
    "%matplotlib inline\n",
    "import matplotlib\n",
    "import numpy as np\n",
    "import matplotlib.pyplot as plt\n",
    "import subprocess as sp\n",
    "import os\n",
    "import time\n",
    "import pylab as pl\n",
    "import scipy.stats\n",
    "from shapely.geometry import Point\n",
    "import statsmodels.formula.api as smf\n",
    "import geopandas as gpd\n",
    "import random\n",
    "import json\n",
    "from fiona.crs import from_epsg\n",
    "import pysal as ps\n",
    "import math\n",
    "import matplotlib.pylab as plt\n",
    "import seaborn as sbn\n",
    "%matplotlib inline\n",
    "from sklearn.decomposition import PCA\n",
    "from sklearn import preprocessing\n",
    "from sklearn import linear_model\n",
    "from sklearn.linear_model import LinearRegression\n",
    "#from sklearn.model_selection import train_test_split\n",
    "from mpl_toolkits.mplot3d import Axes3D\n",
    "from sklearn import datasets\n",
    "import statsmodels.api as sm\n",
    "\n",
    "\n",
    "#declare enviromental variable\n",
    "puidata = os.getenv(\"PUIDATA\")\n",
    "if puidata is None:\n",
    "    os.environ[\"PUIDATA\"] = \"%s/PUIdata\"%os.getenv(\"HOME\")\n",
    "    puidata = os.getenv(\"PUIDATA\")"
   ]
  },
  {
   "cell_type": "markdown",
   "metadata": {
    "run_control": {
     "frozen": false,
     "read_only": false
    }
   },
   "source": [
    "# Task 1: \n",
    "## Event detection: Identify the most prominent event. There is a very significant drop (>3-sigma) in all time series.\n",
    "## Identify it and figure out what it is due to.\n",
    "\n",
    "\n",
    "# Task 2: \n",
    "## Some of the time series are stationary, some have a complex structure, some show a downward trend: Identify the **ridership types**  that have steadily increased in popularity,  and that have steadily decreased. by how much? (e.g what is the ratio of usage in the first 10 and last 10 weeks)\n",
    "\n",
    "\n",
    "# Task 3: \n",
    "## Build a classifier that assigns a card type to a time series based on time series features\n"
   ]
  },
  {
   "cell_type": "code",
   "execution_count": 1,
   "metadata": {
    "ExecuteTime": {
     "end_time": "2018-11-29T19:12:12.847626Z",
     "start_time": "2018-11-29T19:12:11.947437Z"
    },
    "run_control": {
     "frozen": false,
     "read_only": false
    }
   },
   "outputs": [
    {
     "name": "stdout",
     "output_type": "stream",
     "text": [
      "Populating the interactive namespace from numpy and matplotlib\n"
     ]
    },
    {
     "ename": "FileNotFoundError",
     "evalue": "[Errno 2] No such file or directory: 'Ridetypes.png'",
     "output_type": "error",
     "traceback": [
      "\u001b[0;31m---------------------------------------------------------------------------\u001b[0m",
      "\u001b[0;31mFileNotFoundError\u001b[0m                         Traceback (most recent call last)",
      "\u001b[0;32m<ipython-input-1-f01442644e90>\u001b[0m in \u001b[0;36m<module>\u001b[0;34m()\u001b[0m\n\u001b[1;32m     15\u001b[0m \u001b[0;32mfrom\u001b[0m \u001b[0mIPython\u001b[0m\u001b[0;34m.\u001b[0m\u001b[0mdisplay\u001b[0m \u001b[0;32mimport\u001b[0m \u001b[0mclear_output\u001b[0m\u001b[0;34m\u001b[0m\u001b[0m\n\u001b[1;32m     16\u001b[0m \u001b[0mpl\u001b[0m\u001b[0;34m.\u001b[0m\u001b[0mrcParams\u001b[0m\u001b[0;34m[\u001b[0m\u001b[0;34m'font.size'\u001b[0m\u001b[0;34m]\u001b[0m \u001b[0;34m=\u001b[0m \u001b[0;36m20\u001b[0m\u001b[0;34m\u001b[0m\u001b[0m\n\u001b[0;32m---> 17\u001b[0;31m \u001b[0mImage\u001b[0m\u001b[0;34m(\u001b[0m\u001b[0mfilename\u001b[0m \u001b[0;34m=\u001b[0m \u001b[0;34m\"Ridetypes.png\"\u001b[0m\u001b[0;34m)\u001b[0m\u001b[0;34m\u001b[0m\u001b[0m\n\u001b[0m",
      "\u001b[0;32m/usr/local/Anaconda3-5.0.0-Linux-x86_64/envs/ADS/lib/python3.5/site-packages/IPython/core/display.py\u001b[0m in \u001b[0;36m__init__\u001b[0;34m(self, data, url, filename, format, embed, width, height, retina, unconfined, metadata)\u001b[0m\n\u001b[1;32m   1149\u001b[0m         \u001b[0mself\u001b[0m\u001b[0;34m.\u001b[0m\u001b[0munconfined\u001b[0m \u001b[0;34m=\u001b[0m \u001b[0munconfined\u001b[0m\u001b[0;34m\u001b[0m\u001b[0m\n\u001b[1;32m   1150\u001b[0m         super(Image, self).__init__(data=data, url=url, filename=filename, \n\u001b[0;32m-> 1151\u001b[0;31m                 metadata=metadata)\n\u001b[0m\u001b[1;32m   1152\u001b[0m \u001b[0;34m\u001b[0m\u001b[0m\n\u001b[1;32m   1153\u001b[0m         \u001b[0;32mif\u001b[0m \u001b[0mself\u001b[0m\u001b[0;34m.\u001b[0m\u001b[0mwidth\u001b[0m \u001b[0;32mis\u001b[0m \u001b[0;32mNone\u001b[0m \u001b[0;32mand\u001b[0m \u001b[0mself\u001b[0m\u001b[0;34m.\u001b[0m\u001b[0mmetadata\u001b[0m\u001b[0;34m.\u001b[0m\u001b[0mget\u001b[0m\u001b[0;34m(\u001b[0m\u001b[0;34m'width'\u001b[0m\u001b[0;34m,\u001b[0m \u001b[0;34m{\u001b[0m\u001b[0;34m}\u001b[0m\u001b[0;34m)\u001b[0m\u001b[0;34m:\u001b[0m\u001b[0;34m\u001b[0m\u001b[0m\n",
      "\u001b[0;32m/usr/local/Anaconda3-5.0.0-Linux-x86_64/envs/ADS/lib/python3.5/site-packages/IPython/core/display.py\u001b[0m in \u001b[0;36m__init__\u001b[0;34m(self, data, url, filename, metadata)\u001b[0m\n\u001b[1;32m    607\u001b[0m             \u001b[0mself\u001b[0m\u001b[0;34m.\u001b[0m\u001b[0mmetadata\u001b[0m \u001b[0;34m=\u001b[0m \u001b[0;34m{\u001b[0m\u001b[0;34m}\u001b[0m\u001b[0;34m\u001b[0m\u001b[0m\n\u001b[1;32m    608\u001b[0m \u001b[0;34m\u001b[0m\u001b[0m\n\u001b[0;32m--> 609\u001b[0;31m         \u001b[0mself\u001b[0m\u001b[0;34m.\u001b[0m\u001b[0mreload\u001b[0m\u001b[0;34m(\u001b[0m\u001b[0;34m)\u001b[0m\u001b[0;34m\u001b[0m\u001b[0m\n\u001b[0m\u001b[1;32m    610\u001b[0m         \u001b[0mself\u001b[0m\u001b[0;34m.\u001b[0m\u001b[0m_check_data\u001b[0m\u001b[0;34m(\u001b[0m\u001b[0;34m)\u001b[0m\u001b[0;34m\u001b[0m\u001b[0m\n\u001b[1;32m    611\u001b[0m \u001b[0;34m\u001b[0m\u001b[0m\n",
      "\u001b[0;32m/usr/local/Anaconda3-5.0.0-Linux-x86_64/envs/ADS/lib/python3.5/site-packages/IPython/core/display.py\u001b[0m in \u001b[0;36mreload\u001b[0;34m(self)\u001b[0m\n\u001b[1;32m   1180\u001b[0m         \u001b[0;34m\"\"\"Reload the raw data from file or URL.\"\"\"\u001b[0m\u001b[0;34m\u001b[0m\u001b[0m\n\u001b[1;32m   1181\u001b[0m         \u001b[0;32mif\u001b[0m \u001b[0mself\u001b[0m\u001b[0;34m.\u001b[0m\u001b[0membed\u001b[0m\u001b[0;34m:\u001b[0m\u001b[0;34m\u001b[0m\u001b[0m\n\u001b[0;32m-> 1182\u001b[0;31m             \u001b[0msuper\u001b[0m\u001b[0;34m(\u001b[0m\u001b[0mImage\u001b[0m\u001b[0;34m,\u001b[0m\u001b[0mself\u001b[0m\u001b[0;34m)\u001b[0m\u001b[0;34m.\u001b[0m\u001b[0mreload\u001b[0m\u001b[0;34m(\u001b[0m\u001b[0;34m)\u001b[0m\u001b[0;34m\u001b[0m\u001b[0m\n\u001b[0m\u001b[1;32m   1183\u001b[0m             \u001b[0;32mif\u001b[0m \u001b[0mself\u001b[0m\u001b[0;34m.\u001b[0m\u001b[0mretina\u001b[0m\u001b[0;34m:\u001b[0m\u001b[0;34m\u001b[0m\u001b[0m\n\u001b[1;32m   1184\u001b[0m                 \u001b[0mself\u001b[0m\u001b[0;34m.\u001b[0m\u001b[0m_retina_shape\u001b[0m\u001b[0;34m(\u001b[0m\u001b[0;34m)\u001b[0m\u001b[0;34m\u001b[0m\u001b[0m\n",
      "\u001b[0;32m/usr/local/Anaconda3-5.0.0-Linux-x86_64/envs/ADS/lib/python3.5/site-packages/IPython/core/display.py\u001b[0m in \u001b[0;36mreload\u001b[0;34m(self)\u001b[0m\n\u001b[1;32m    632\u001b[0m         \u001b[0;34m\"\"\"Reload the raw data from file or URL.\"\"\"\u001b[0m\u001b[0;34m\u001b[0m\u001b[0m\n\u001b[1;32m    633\u001b[0m         \u001b[0;32mif\u001b[0m \u001b[0mself\u001b[0m\u001b[0;34m.\u001b[0m\u001b[0mfilename\u001b[0m \u001b[0;32mis\u001b[0m \u001b[0;32mnot\u001b[0m \u001b[0;32mNone\u001b[0m\u001b[0;34m:\u001b[0m\u001b[0;34m\u001b[0m\u001b[0m\n\u001b[0;32m--> 634\u001b[0;31m             \u001b[0;32mwith\u001b[0m \u001b[0mopen\u001b[0m\u001b[0;34m(\u001b[0m\u001b[0mself\u001b[0m\u001b[0;34m.\u001b[0m\u001b[0mfilename\u001b[0m\u001b[0;34m,\u001b[0m \u001b[0mself\u001b[0m\u001b[0;34m.\u001b[0m\u001b[0m_read_flags\u001b[0m\u001b[0;34m)\u001b[0m \u001b[0;32mas\u001b[0m \u001b[0mf\u001b[0m\u001b[0;34m:\u001b[0m\u001b[0;34m\u001b[0m\u001b[0m\n\u001b[0m\u001b[1;32m    635\u001b[0m                 \u001b[0mself\u001b[0m\u001b[0;34m.\u001b[0m\u001b[0mdata\u001b[0m \u001b[0;34m=\u001b[0m \u001b[0mf\u001b[0m\u001b[0;34m.\u001b[0m\u001b[0mread\u001b[0m\u001b[0;34m(\u001b[0m\u001b[0;34m)\u001b[0m\u001b[0;34m\u001b[0m\u001b[0m\n\u001b[1;32m    636\u001b[0m         \u001b[0;32melif\u001b[0m \u001b[0mself\u001b[0m\u001b[0;34m.\u001b[0m\u001b[0murl\u001b[0m \u001b[0;32mis\u001b[0m \u001b[0;32mnot\u001b[0m \u001b[0;32mNone\u001b[0m\u001b[0;34m:\u001b[0m\u001b[0;34m\u001b[0m\u001b[0m\n",
      "\u001b[0;31mFileNotFoundError\u001b[0m: [Errno 2] No such file or directory: 'Ridetypes.png'"
     ]
    }
   ],
   "source": [
    "from __future__ import print_function, division\n",
    "import pylab as pl\n",
    "import numpy as np\n",
    "import pandas as pd\n",
    "\n",
    "from sklearn.ensemble  import RandomForestClassifier as rfc\n",
    "from sklearn.model_selection import train_test_split\n",
    "from sklearn.metrics import confusion_matrix\n",
    "from sklearn.metrics import classification_report\n",
    "import statsmodels.api as sm\n",
    "\n",
    "%pylab inline\n",
    "\n",
    "from IPython.display import Image\n",
    "from IPython.display import clear_output\n",
    "pl.rcParams['font.size'] = 20\n",
    "Image(filename = \"Ridetypes.png\")"
   ]
  },
  {
   "cell_type": "markdown",
   "metadata": {
    "run_control": {
     "frozen": false,
     "read_only": false
    }
   },
   "source": [
    "This is the information I recieved about the data: \"each time series (per station, per ticket type) contains\n",
    "the number of swipes per week for 194 weeks \n",
    "from 05/19/2010 to 02/19/2014. \"\n",
    "\n",
    "The data are available to you as a python data cube here:\n",
    "\n",
    "you can load it as \n",
    "\n",
    "np.load(“MTA_Fare.npy\") and \n",
    "\n",
    "\n",
    "you will end up with a python numpy array of \n",
    "shape (600,23,194)\n",
    "\n",
    "** note that the missing values are inputted as -1**\n",
    "\n",
    "if you want to do things like algebra (summing time series for example) you need to take care of that! if you replace the -1 entries with NaN remember to use functions that can deal with nans:\n",
    "np.nanmean\n",
    "np.nansum..."
   ]
  },
  {
   "cell_type": "markdown",
   "metadata": {
    "run_control": {
     "frozen": false,
     "read_only": false
    }
   },
   "source": [
    "# HINTS: \n",
    "\n",
    "## notes and hints: \n",
    "\n",
    "   1) you could coerce the data into a pandas dataframe, but the data is truly a \"datacube\": a 3D dataset, and flattening it into a pandas dataframe will make it far more difficult to manipulate. I strongly recommand you keep it as a numpy array\n",
    "    \n",
    "   2) note that the missing values are inputted as -1. if you want to do things like algebra (summing time series for example) you need to take care of that. If you replace the -1 entries with NaN, you may need to use functions that explicitly know how to deal with NaN: for example, to sum use the np.nansum etc\n",
    "```\n",
    "np.nanmean(mtarides)\n",
    "np.nansum(mtarides)\n",
    "```\n",
    "as opposed to just \n",
    "```\n",
    "np.mean(mtarides)\n",
    "np.sum(mtarides)\n",
    "```\n",
    " \n",
    "## There are 600 stations, 23 card types. The trick to do this homework succesfully is to \"collaps\" (by averaging, or summing, depending on the question) the appropriate dimension in different parts of the homework: when you need to work at the station level (if I ask \"which station is the one that...\"), collaps the card type, when you need to work on the card type, collapse the stations. \n",
    "\n",
    "When I ask you \"which station ...\", you can sum or average over the ridership types for all station and reduce your data by a factor 23. When I ask you \"which rideship type ...\" you can sum or average over the stations and reduce your data by a factor 600! (or even better you could take a weighted average - *np.average(....weight=...)* -. The sum and average functions take an *axis* argument, which allows you to control which axis of the cube gets averaged. The dimension of the resulting object will allow you to check that you averaged over the right axis.\n",
    "\n",
    "\n",
    "# Possibly useful functions\n",
    "\n",
    "You are already familiar with and have already used  most of the functions I needed to perform this exercise. Here are some reminders and on few functions and methods that you may not have encountered yet which may be useful. You do not have to use them: there are many ways to do things and you do not have to solve this problem like I did, but here they are in case you need some help:\n",
    "\n",
    "* the numpy function np.where() returns the index where a condition is true. It is slow and inefficient but very intuitive and convenient\n",
    "\n",
    "\n",
    "* the nupy functions np.nansum(), np.sum(), np.nanmean() etc take an array and the axis along which to sum as inputs. If you want to sum over stations, or over rides, you can use these passing the appropriate axis number: axis=1 axis=2...\n",
    "\n",
    "\n",
    "*  the array methods \n",
    "```\n",
    "np.array.flatten()\n",
    "np.array.reshape()\n",
    "```\n",
    "     allow you to manipulate the shape of an array, for example if you want to run analysis on each individual time series, each station and each ridership type, which I recommand if you want to work on clustering for extra credit (resulting into 600*23=13800 time series) you can flatten the array as\n",
    "     \n",
    "```\n",
    "mtaarray.flatten()\n",
    "```\n",
    "\n",
    "    which returns the flatten array:\n",
    "\n",
    "```\n",
    "mtaRides = np.load(\"MTA_Fare.npy\")\n",
    "\n",
    "mtaRides.shape\n",
    "Out[10]: (600, 23, 194)\n",
    "\n",
    "mtaRides.flatten().shape\n",
    "Out[11]: (2677200,)\n",
    "````"
   ]
  },
  {
   "cell_type": "markdown",
   "metadata": {
    "ExecuteTime": {
     "end_time": "2018-11-29T19:44:58.918841Z",
     "start_time": "2018-11-29T19:44:58.906154Z"
    },
    "run_control": {
     "frozen": false,
     "marked": false,
     "read_only": false
    }
   },
   "source": [
    "# read in data as instructed above"
   ]
  },
  {
   "cell_type": "code",
   "execution_count": 3,
   "metadata": {},
   "outputs": [],
   "source": [
    "#import data\n",
    "url_list = ['https://github.com/fedhere/PUI2018_fb55/raw/master/HW11_fb55/MTA_Fare.npy',\n",
    "'https://github.com/fedhere/PUI2018_fb55/raw/master/HW11_fb55/MTA_Fare2.npy',\n",
    "'https://github.com/fedhere/PUI2018_fb55/raw/master/HW11_fb55/MTA_Fare_py3.npy']\n",
    "urllib.urlretrieve(url_list[0], puidata + 'MTA_Fare.npy')\n",
    "mta = np.load(puidata + 'MTA_Fare.npy')"
   ]
  },
  {
   "cell_type": "code",
   "execution_count": 4,
   "metadata": {},
   "outputs": [
    {
     "name": "stdout",
     "output_type": "stream",
     "text": [
      "MTA array shape: (600, 23, 194)\n",
      "MTA array shape summed over all ride types: (600, 194)\n"
     ]
    }
   ],
   "source": [
    "print (\"MTA array shape:\", mta.shape)\n",
    "print (\"MTA array shape summed over all ride types:\", np.nansum(mta,axis=1).shape)\n",
    "#note to self (altho it's written above):\n",
    "# 600 stations - axis 0\n",
    "# 23 card types  - axis 1\n",
    "# 194 dates?  - axis 2"
   ]
  },
  {
   "cell_type": "markdown",
   "metadata": {
    "run_control": {
     "frozen": false,
     "read_only": false
    }
   },
   "source": [
    "create a \"ride types\" list based on the metadata I was given"
   ]
  },
  {
   "cell_type": "code",
   "execution_count": 5,
   "metadata": {},
   "outputs": [
    {
     "name": "stdout",
     "output_type": "stream",
     "text": [
      "number of ride types 23\n"
     ]
    }
   ],
   "source": [
    "#ridership type list\n",
    "ridetype = np.array(['10t', '14d', '1d', '2t', '30d', '7d', 'ada', 'afas', 'exp','ez',\n",
    "            'ff','mc','mr','month','rfm','rr','sen','spec','tcmc','t',\n",
    "            'umlim','xbus','stud'])\n",
    "print(\"number of ride types\", len(ridetype))"
   ]
  },
  {
   "cell_type": "markdown",
   "metadata": {},
   "source": [
    "You need to create a date range to plot properly. \n",
    "After that I create a date range (for example with pd.date_range())\n",
    "in a log plot to enhance the visibility along the y axis (np.log10(weightedrides[i]))\n",
    "all time series, each station each ride type, look like this (pretty ugly)"
   ]
  },
  {
   "cell_type": "code",
   "execution_count": null,
   "metadata": {},
   "outputs": [
    {
     "name": "stderr",
     "output_type": "stream",
     "text": [
      "/usr/local/Anaconda3-5.0.0-Linux-x86_64/envs/ADS/lib/python3.5/site-packages/ipykernel_launcher.py:9: RuntimeWarning: invalid value encountered in log10\n",
      "  if __name__ == '__main__':\n",
      "/usr/local/Anaconda3-5.0.0-Linux-x86_64/envs/ADS/lib/python3.5/site-packages/ipykernel_launcher.py:9: RuntimeWarning: divide by zero encountered in log10\n",
      "  if __name__ == '__main__':\n"
     ]
    }
   ],
   "source": [
    "#i'm curious how long this baby takes to run\n",
    "import time\n",
    "start_time = time.time()\n",
    "\n",
    "pl.figure(figsize=(12,5))\n",
    "for station in range(mta.shape[0]): #iterate over station\n",
    "    for card in range(mta.shape[1]): #iterate over card type\n",
    "        plotable = mta[station,card,]\n",
    "        plt.plot(range(len(plotable)),np.log10(plotable))\n",
    "plt.xlabel('weeks since 5/21/2010',fontsize=15)\n",
    "plt.ylabel('swipes (log10)',fontsize=15)\n",
    "plt.show()\n",
    "print(\"--- %s seconds ---\" % (time.time() - start_time))"
   ]
  },
  {
   "cell_type": "markdown",
   "metadata": {},
   "source": [
    "#### Figure 1: time series for all ride types and all stations in semi-log space"
   ]
  },
  {
   "cell_type": "markdown",
   "metadata": {
    "run_control": {
     "frozen": false,
     "read_only": false
    }
   },
   "source": [
    "# 1: event detection \n",
    "\n",
    "## Event detection: Identify the most prominent event. There is a very significant drop (>3-sigma) in all time series. Find the date and see what  may have caused this event \n",
    "\n"
   ]
  },
  {
   "cell_type": "code",
   "execution_count": 163,
   "metadata": {},
   "outputs": [
    {
     "name": "stdout",
     "output_type": "stream",
     "text": [
      "Sigma value : 2983960.421700886\n",
      "Mean value : 29781349.87113402\n",
      "Postive 3-Sigma Threshold : 38733231.13623668\n",
      "Negative 3-Sigma Threshold : 20829468.606031362\n"
     ]
    }
   ],
   "source": [
    "#basically, mean +/- 3*sigma and use this to get the corresponding date (fireman example)\n",
    "#gotta remove the -1s\n",
    "#create deep copy so the original won't be affected, convert to float because nans are considered floats\n",
    "mta_nans = mta.copy().astype('float')\n",
    "#turn -1s to nan values\n",
    "mta_nans[mta_nans==-1] = np.nan\n",
    "#sum all the values by station and cardtype, so i have 1-d vector of the dates\n",
    "sum_mta_nans = nansum(mta_nans,axis=(0,1))\n",
    "#find std (excluding nans)\n",
    "mta_nans_std = np.nanstd(sum_mta_nans)\n",
    "#find mean (excluding nans)\n",
    "mta_nans_mean = np.nanmean(sum_mta_nans)\n",
    "#create threshold values\n",
    "sigma_thres_pos = mta_nans_mean + mta_nans_std*3 \n",
    "sigma_thres_neg = mta_nans_mean - mta_nans_std*3\n",
    "\n",
    "#now i need to create dates!\n",
    "date_=pd.date_range(start=\"2010-05-19\",freq=\"W-SUN\",periods=194)\n",
    "\n",
    "print(\"Sigma value : {}\".format(mta_nans_std))\n",
    "print(\"Mean value : {}\".format(mta_nans_mean))\n",
    "print(\"Postive 3-Sigma Threshold : {}\".format(sigma_thres_pos))\n",
    "print(\"Negative 3-Sigma Threshold : {}\".format(sigma_thres_neg))\n",
    "\n",
    "#convert to 0 those values below and above the threshold to accentuate points outside the 3-sigma band\n",
    "sum_mta_nans[(sum_mta_nans<sigma_thres_pos) & (sum_mta_nans>sigma_thres_neg)] = 0.0"
   ]
  },
  {
   "cell_type": "code",
   "execution_count": 162,
   "metadata": {},
   "outputs": [
    {
     "data": {
      "text/plain": [
       "Timestamp('2012-10-21 00:00:00', freq='W-SUN')"
      ]
     },
     "execution_count": 162,
     "metadata": {},
     "output_type": "execute_result"
    }
   ],
   "source": [
    "#return corresponding date to only point that's beyond the threshold band; it just so happened to be a single point\n",
    "date_[sum_mta_nans!=0][0]"
   ]
  },
  {
   "cell_type": "markdown",
   "metadata": {},
   "source": [
    "## The returned date is around the time when Hurricane Sandy hits NYC. Below is a news article mentioning this event.\n",
    "#https://www.huffingtonpost.com/2012/10/28/mta-shutdown-hurricane-sandy-subway-cuomo_n_2034337.html"
   ]
  },
  {
   "cell_type": "markdown",
   "metadata": {
    "run_control": {
     "frozen": false,
     "read_only": false
    }
   },
   "source": [
    " # 2: finding trends"
   ]
  },
  {
   "cell_type": "markdown",
   "metadata": {
    "run_control": {
     "frozen": false,
     "read_only": false
    }
   },
   "source": [
    "## NOTE ON THE TREND DETECTION:\n",
    "### you should find the *ride type* that has the steepest increase, and the steepest decrease. Notice: we are looking for something that has a more or less constant trend\n",
    "\n",
    "### to do this you can sum or average (a weighted average is probably best) over all stations, leaving you with 23 time series, one per ridership type. \n",
    "\n",
    "### you can use a rolling mean for smoothing (pd.rolling_mean() for example), and you can calculate the ratio of the *number of rides* near the beginning to the *number of rides* near the end of the time series.\n",
    "\n",
    "### notice that you should inspect the time series, algorithmically or at least by eye, to ensure you see a trend, and not just changing structure. Below is an example of a lightcurve with structure (top) and a lightcurve with a constant trend (bottom) both showing a large deviation between the beginning and the end of the time series\n"
   ]
  },
  {
   "cell_type": "code",
   "execution_count": 129,
   "metadata": {
    "ExecuteTime": {
     "end_time": "2018-11-29T19:56:26.250486Z",
     "start_time": "2018-11-29T19:56:25.828848Z"
    }
   },
   "outputs": [
    {
     "name": "stdout",
     "output_type": "stream",
     "text": [
      "13\n",
      "stdev 16498.07, fractional change over time 0.60: \n",
      "14\n",
      "stdev 145035.47, fractional change over time 0.66: \n"
     ]
    },
    {
     "name": "stderr",
     "output_type": "stream",
     "text": [
      "//anaconda/envs/GEOP/lib/python3.6/site-packages/ipykernel_launcher.py:9: FutureWarning: pd.rolling_mean is deprecated for ndarrays and will be removed in a future version\n",
      "  if __name__ == '__main__':\n"
     ]
    },
    {
     "data": {
      "image/png": "[encoded data removed]",
      "text/plain": [
       "<Figure size 432x288 with 1 Axes>"
      ]
     },
     "metadata": {},
     "output_type": "display_data"
    },
    {
     "data": {
      "image/png": "[encoded data removed]",
      "text/plain": [
       "<Figure size 432x288 with 1 Axes>"
      ]
     },
     "metadata": {},
     "output_type": "display_data"
    }
   ],
   "source": [
    "# examples of 2 time series with comparable change ratio, but only one of them has a smooth trend"
   ]
  },
  {
   "cell_type": "markdown",
   "metadata": {
    "run_control": {
     "frozen": false,
     "read_only": false
    }
   },
   "source": [
    "# 3. Build  models that classified the *ride type* based on the time series characteristics using random forests. \n",
    "\n",
    "Clean the data from missing values (drop time series with NaNs)\n",
    "\n",
    "Use all the time series, and use the ticket type as a label (remember that the original data is sorted by ticket type in axis=1).\n",
    "\n",
    "Calculate the mean, standard deviation for each time series and by station and create the features as instructed below\n",
    "\n",
    "Split the training and test data (66%/33%)\n",
    "\n",
    "Build and test a random forest model that predicts the ticket type based on 4 engineered features (see below).\n",
    "\n",
    "Build and test a random forest model that predicts the ticket type based on all datapoint in the time series (194 features)\n",
    "\n",
    "Plot a confusion matrix for each model (discuss)\n",
    "\n",
    "Compare the models using sklearn.metrics classification_report\n",
    "\n",
    "Find the 2 most important features in each model \n",
    "\n",
    "\n",
    "\n",
    "## Build one that uses as input features the following engineered features :\n",
    "- the time series mean divided by the mean of all time series for that station\n",
    "- the time series standard deviation by the  standard deviation of all time series for that station\n",
    "- the slope and intercept of a line fit to the standardized time series \n",
    "        (time_series - time_series.mean())/time_series.std()\n",
    "        "
   ]
  },
  {
   "cell_type": "code",
   "execution_count": 16,
   "metadata": {
    "ExecuteTime": {
     "end_time": "2018-11-29T19:10:04.649911Z",
     "start_time": "2018-11-29T19:10:04.619095Z"
    }
   },
   "outputs": [
    {
     "data": {
      "text/plain": [
       "(9317,)"
      ]
     },
     "execution_count": 16,
     "metadata": {},
     "output_type": "execute_result"
    }
   ],
   "source": [
    "label = ...\n",
    "label.shape"
   ]
  },
  {
   "cell_type": "code",
   "execution_count": 17,
   "metadata": {
    "ExecuteTime": {
     "end_time": "2018-11-29T19:10:06.708945Z",
     "start_time": "2018-11-29T19:10:06.698441Z"
    }
   },
   "outputs": [
    {
     "data": {
      "text/plain": [
       "array([ 0,  1,  2,  3,  4,  5,  6,  7,  8,  9, 10, 11, 12, 13, 14, 15, 16,\n",
       "       17, 18, 19, 20, 21, 22,  0,  1,  2])"
      ]
     },
     "execution_count": 17,
     "metadata": {},
     "output_type": "execute_result"
    }
   ],
   "source": [
    "label[:26]"
   ]
  },
  {
   "cell_type": "code",
   "execution_count": 6,
   "metadata": {
    "ExecuteTime": {
     "end_time": "2018-11-29T19:08:48.743539Z",
     "start_time": "2018-11-29T19:08:48.685406Z"
    }
   },
   "outputs": [
    {
     "data": {
      "text/plain": [
       "(600,)"
      ]
     },
     "execution_count": 6,
     "metadata": {},
     "output_type": "execute_result"
    }
   ],
   "source": [
    "stationsmeans = ...\n",
    "stationsmeans.shape"
   ]
  },
  {
   "cell_type": "code",
   "execution_count": 7,
   "metadata": {
    "ExecuteTime": {
     "end_time": "2018-11-29T19:08:50.050554Z",
     "start_time": "2018-11-29T19:08:50.021510Z"
    }
   },
   "outputs": [
    {
     "data": {
      "text/plain": [
       "(600,)"
      ]
     },
     "execution_count": 7,
     "metadata": {},
     "output_type": "execute_result"
    }
   ],
   "source": [
    "stationsstd = ...\n",
    "stationsstd.shape"
   ]
  },
  {
   "cell_type": "markdown",
   "metadata": {},
   "source": [
    "you will have to remove time series containing NaN because the random forest sklearn implementation does not work with NaNs. \n",
    "An easy way to do that is to remove all time series whose standard deviation is NaN\n",
    "Here is how you would use to only extract station id for the valid (no containing nan) time series\n"
   ]
  },
  {
   "cell_type": "code",
   "execution_count": 10,
   "metadata": {
    "ExecuteTime": {
     "end_time": "2018-11-29T19:09:05.682797Z",
     "start_time": "2018-11-29T19:09:05.655054Z"
    }
   },
   "outputs": [
    {
     "data": {
      "text/plain": [
       "array([  0,   0,   0, ..., 550, 550, 550])"
      ]
     },
     "execution_count": 10,
     "metadata": {},
     "output_type": "execute_result"
    }
   ],
   "source": [
    "stationid = np.concatenate([np.array([i] * 23) for i in range(600)])\n",
    "stationid[mta.reshape(600*23, 194).std(1) > 0]"
   ]
  },
  {
   "cell_type": "code",
   "execution_count": 11,
   "metadata": {
    "ExecuteTime": {
     "end_time": "2018-11-29T19:09:11.855427Z",
     "start_time": "2018-11-29T19:09:11.833854Z"
    }
   },
   "outputs": [
    {
     "data": {
      "text/plain": [
       "(9317, 194)"
      ]
     },
     "execution_count": 11,
     "metadata": {},
     "output_type": "execute_result"
    }
   ],
   "source": [
    "tots = mta.reshape....\n",
    "tots.shape"
   ]
  },
  {
   "cell_type": "code",
   "execution_count": 13,
   "metadata": {
    "ExecuteTime": {
     "end_time": "2018-11-29T19:09:52.102805Z",
     "start_time": "2018-11-29T19:09:51.589166Z"
    }
   },
   "outputs": [
    {
     "name": "stderr",
     "output_type": "stream",
     "text": [
      "//anaconda/envs/GEOP/lib/python3.6/site-packages/ipykernel_launcher.py:1: RuntimeWarning: divide by zero encountered in double_scalars\n",
      "  \"\"\"Entry point for launching an IPython kernel.\n",
      "//anaconda/envs/GEOP/lib/python3.6/site-packages/ipykernel_launcher.py:2: RuntimeWarning: divide by zero encountered in double_scalars\n",
      "  \n"
     ]
    }
   ],
   "source": [
    "normed_time_series_mean = ...\n",
    "normed_time_series_std = ..."
   ]
  },
  {
   "cell_type": "code",
   "execution_count": 15,
   "metadata": {
    "ExecuteTime": {
     "end_time": "2018-11-29T19:09:59.304227Z",
     "start_time": "2018-11-29T19:09:59.299635Z"
    }
   },
   "outputs": [
    {
     "data": {
      "text/plain": [
       "[1.395418982736398,\n",
       " 0.040502828714548786,\n",
       " 0.005274169311689245,\n",
       " 0.015024618528380378,\n",
       " 0.010724532270930892,\n",
       " 0.46734881809359824,\n",
       " 0.7818394435461803,\n",
       " 0.0013976175988299514,\n",
       " 0.17261222074600674,\n",
       " 0.07396098098064302]"
      ]
     },
     "execution_count": 15,
     "metadata": {},
     "output_type": "execute_result"
    }
   ],
   "source": [
    "normed_time_series_std[:10]"
   ]
  },
  {
   "cell_type": "code",
   "execution_count": 18,
   "metadata": {
    "ExecuteTime": {
     "end_time": "2018-11-29T19:10:16.537276Z",
     "start_time": "2018-11-29T19:10:16.523224Z"
    },
    "run_control": {
     "frozen": false,
     "marked": false,
     "read_only": false
    }
   },
   "outputs": [
    {
     "data": {
      "text/plain": [
       "(9317,)"
      ]
     },
     "execution_count": 18,
     "metadata": {},
     "output_type": "execute_result"
    }
   ],
   "source": [
    "tsmean = np.nanmean(tots, axis=1)\n",
    "tsmean.shape\n",
    "\n"
   ]
  },
  {
   "cell_type": "code",
   "execution_count": 19,
   "metadata": {
    "ExecuteTime": {
     "end_time": "2018-11-29T19:10:23.527937Z",
     "start_time": "2018-11-29T19:10:23.523235Z"
    }
   },
   "outputs": [
    {
     "data": {
      "text/plain": [
       "array([5.79828866e+04, 1.80932474e+03, 2.34865979e+02, 7.30041237e+02,\n",
       "       2.90108247e+02, 1.98267680e+04, 3.02422629e+04, 8.47422680e+00,\n",
       "       9.67087629e+02, 4.26824742e+02])"
      ]
     },
     "execution_count": 19,
     "metadata": {},
     "output_type": "execute_result"
    }
   ],
   "source": [
    "tsmean[:10]"
   ]
  },
  {
   "cell_type": "code",
   "execution_count": 93,
   "metadata": {
    "ExecuteTime": {
     "end_time": "2018-11-29T19:32:55.229457Z",
     "start_time": "2018-11-29T19:32:55.223275Z"
    }
   },
   "outputs": [
    {
     "data": {
      "text/plain": [
       "array([18634.01356896,   540.86282986,    70.42970157,   200.63432488,\n",
       "         143.21224115,  6240.83828981, 10440.45335489,    18.66337324,\n",
       "        2305.01269034,   987.653128  ])"
      ]
     },
     "execution_count": 93,
     "metadata": {},
     "output_type": "execute_result"
    }
   ],
   "source": [
    "tsstdev[:10]\n"
   ]
  },
  {
   "cell_type": "code",
   "execution_count": 25,
   "metadata": {
    "ExecuteTime": {
     "end_time": "2018-11-29T19:11:36.711312Z",
     "start_time": "2018-11-29T19:11:36.332369Z"
    }
   },
   "outputs": [
    {
     "data": {
      "text/plain": [
       "Text(0, 0.5, 'standardized number of rides')"
      ]
     },
     "execution_count": 25,
     "metadata": {},
     "output_type": "execute_result"
    },
    {
     "data": {
      "image/png": "[encoded data removed]",
      "text/plain": [
       "<Figure size 432x288 with 1 Axes>"
      ]
     },
     "metadata": {},
     "output_type": "display_data"
    }
   ],
   "source": [
    "standardizedts = ...\n",
    "for i in range(10):\n",
    "    pl.plot(standardizedts[i])\n",
    "pl.xlabel(\"week number\")\n",
    "pl.ylabel(\"standardized number of rides\")"
   ]
  },
  {
   "cell_type": "code",
   "execution_count": 34,
   "metadata": {
    "ExecuteTime": {
     "end_time": "2018-11-29T19:13:20.087954Z",
     "start_time": "2018-11-29T19:13:20.083548Z"
    }
   },
   "outputs": [
    {
     "data": {
      "text/plain": [
       "[71890.84869151471,\n",
       " 2091.2375892149093,\n",
       " 282.7639968279143,\n",
       " 915.9172085646317,\n",
       " 407.4856463124503,\n",
       " 21297.24948453608,\n",
       " 41997.96748612212,\n",
       " 29.473909595559086,\n",
       " 3439.0558287073763,\n",
       " 1505.7963521015074]"
      ]
     },
     "execution_count": 34,
     "metadata": {},
     "output_type": "execute_result"
    }
   ],
   "source": [
    "allfits = sm.OLS...\n",
    "[a.params[0] for a in allfits[:10]]"
   ]
  },
  {
   "cell_type": "markdown",
   "metadata": {},
   "source": [
    "You can use the sklearn train_test_split() function to create your training and test dataset. "
   ]
  },
  {
   "cell_type": "code",
   "execution_count": 98,
   "metadata": {
    "ExecuteTime": {
     "end_time": "2018-11-29T19:36:08.435642Z",
     "start_time": "2018-11-29T19:36:08.282205Z"
    }
   },
   "outputs": [
    {
     "name": "stderr",
     "output_type": "stream",
     "text": [
      "//anaconda/envs/GEOP/lib/python3.6/site-packages/ipykernel_launcher.py:3: RuntimeWarning: divide by zero encountered in true_divide\n",
      "  This is separate from the ipykernel package so we can avoid doing imports until\n"
     ]
    }
   ],
   "source": [
    "X_train, X_test, y_train, y_test = train_test_split(\n",
    "    np.array([[a.params[0] for a in allfits], [a.params[1] for a in allfits], \n",
    "              np.mean(ts)/normedtsmean, np.std(ts)/normedtsstd]).T, \n",
    "    label, test_size=0.33, random_state=42, shuffle=True)"
   ]
  },
  {
   "cell_type": "code",
   "execution_count": 100,
   "metadata": {
    "ExecuteTime": {
     "end_time": "2018-11-29T19:36:28.484811Z",
     "start_time": "2018-11-29T19:36:28.477264Z"
    }
   },
   "outputs": [
    {
     "data": {
      "text/plain": [
       "((6242, 4), (3075, 4), (6242,), (3075,))"
      ]
     },
     "execution_count": 100,
     "metadata": {},
     "output_type": "execute_result"
    }
   ],
   "source": [
    "np.array(X_train).shape, np.array(X_test).shape, np.array(y_train).shape, np.array(y_test).shape"
   ]
  },
  {
   "cell_type": "markdown",
   "metadata": {
    "ExecuteTime": {
     "end_time": "2018-11-29T19:12:22.388329Z",
     "start_time": "2018-11-29T19:12:18.684825Z"
    }
   },
   "source": [
    "depending on the details of your data processing you may have infinities as well. You also will have to get read of them"
   ]
  },
  {
   "cell_type": "code",
   "execution_count": 80,
   "metadata": {
    "ExecuteTime": {
     "end_time": "2018-11-29T19:23:00.644734Z",
     "start_time": "2018-11-29T19:23:00.637164Z"
    }
   },
   "outputs": [
    {
     "data": {
      "text/plain": [
       "(1, 0, 0, 0)"
      ]
     },
     "execution_count": 80,
     "metadata": {},
     "output_type": "execute_result"
    }
   ],
   "source": [
    "(~np.isfinite(X_train)).sum(),(~np.isfinite(X_test)).sum(),(~np.isfinite(y_train)).sum(),(~np.isfinite(y_test )).sum()"
   ]
  },
  {
   "cell_type": "code",
   "execution_count": 101,
   "metadata": {
    "ExecuteTime": {
     "end_time": "2018-11-29T19:37:14.635667Z",
     "start_time": "2018-11-29T19:37:14.630140Z"
    }
   },
   "outputs": [],
   "source": [
    "X_train[~np.isfinite(X_train)] = # ... make a choice about what to do with this datapoint. drop it or replace it with something"
   ]
  },
  {
   "cell_type": "code",
   "execution_count": 105,
   "metadata": {
    "ExecuteTime": {
     "end_time": "2018-11-29T19:37:57.667321Z",
     "start_time": "2018-11-29T19:37:57.453542Z"
    }
   },
   "outputs": [
    {
     "data": {
      "text/plain": [
       "RandomForestClassifier(bootstrap=True, class_weight=None, criterion='gini',\n",
       "            max_depth=None, max_features='auto', max_leaf_nodes=None,\n",
       "            min_impurity_decrease=0.0, min_impurity_split=None,\n",
       "            min_samples_leaf=1, min_samples_split=2,\n",
       "            min_weight_fraction_leaf=0.0, n_estimators=10, n_jobs=1,\n",
       "            oob_score=False, random_state=None, verbose=0,\n",
       "            warm_start=False)"
      ]
     },
     "execution_count": 105,
     "metadata": {},
     "output_type": "execute_result"
    }
   ],
   "source": [
    "clf = rfc()..."
   ]
  },
  {
   "cell_type": "markdown",
   "metadata": {
    "ExecuteTime": {
     "end_time": "2018-11-29T19:38:27.341062Z",
     "start_time": "2018-11-29T19:38:27.331442Z"
    }
   },
   "source": [
    "and use sklearn confusion_matrix to see the errors"
   ]
  },
  {
   "cell_type": "code",
   "execution_count": 84,
   "metadata": {
    "ExecuteTime": {
     "end_time": "2018-11-29T19:23:04.055950Z",
     "start_time": "2018-11-29T19:23:03.843514Z"
    }
   },
   "outputs": [
    {
     "data": {
      "text/plain": [
       "<matplotlib.image.AxesImage at 0x1c1c24fba8>"
      ]
     },
     "execution_count": 84,
     "metadata": {},
     "output_type": "execute_result"
    },
    {
     "data": {
      "image/png": "[encoded data removed]",
      "text/plain": [
       "<Figure size 432x288 with 1 Axes>"
      ]
     },
     "metadata": {},
     "output_type": "display_data"
    }
   ],
   "source": [
    "imshow(confusion_matrix(y_test, y_pred))"
   ]
  },
  {
   "cell_type": "markdown",
   "metadata": {
    "ExecuteTime": {
     "end_time": "2018-11-29T19:23:04.606429Z",
     "start_time": "2018-11-29T19:23:04.594308Z"
    }
   },
   "source": [
    " and use classification_report to assess the model and clf.feature_importances_ to find the important features"
   ]
  },
  {
   "cell_type": "markdown",
   "metadata": {},
   "source": [
    "## Build a model that uses as input features each time stamp (194 features) :\n"
   ]
  },
  {
   "cell_type": "code",
   "execution_count": 87,
   "metadata": {
    "ExecuteTime": {
     "end_time": "2018-11-29T19:23:06.241262Z",
     "start_time": "2018-11-29T19:23:06.232775Z"
    },
    "run_control": {
     "frozen": false,
     "marked": false,
     "read_only": false
    }
   },
   "outputs": [],
   "source": [
    "# use the same split ratio\n",
    "X_train, X_test, y_train, y_test = train_test_split(\n",
    "    ..."
   ]
  },
  {
   "cell_type": "code",
   "execution_count": 90,
   "metadata": {
    "ExecuteTime": {
     "end_time": "2018-11-29T19:23:08.449930Z",
     "start_time": "2018-11-29T19:23:08.238028Z"
    }
   },
   "outputs": [
    {
     "data": {
      "text/plain": [
       "<matplotlib.image.AxesImage at 0x1c1bceae10>"
      ]
     },
     "execution_count": 90,
     "metadata": {},
     "output_type": "execute_result"
    },
    {
     "data": {
      "image/png": "[encoded data removed]",
      "text/plain": [
       "<Figure size 432x288 with 1 Axes>"
      ]
     },
     "metadata": {},
     "output_type": "display_data"
    }
   ],
   "source": [
    "imshow(confusion_matrix(y_test, y_pred))"
   ]
  },
  {
   "cell_type": "code",
   "execution_count": 91,
   "metadata": {
    "ExecuteTime": {
     "end_time": "2018-11-29T19:23:08.465160Z",
     "start_time": "2018-11-29T19:23:08.453377Z"
    }
   },
   "outputs": [
    {
     "name": "stdout",
     "output_type": "stream",
     "text": [
      "             precision    recall  f1-score   support\n",
      "\n",
      "        10t       0.75      0.82      0.78       160\n",
      "        14d       0.75      0.79      0.77       157\n",
      "         1d       0.50      0.60      0.55       141\n",
      "         2t       0.55      0.54      0.55       154\n",
      "        30d       0.59      0.73      0.65       142\n",
      "         7d       0.71      0.79      0.74       154\n",
      "        ada       0.82      0.81      0.81       149\n",
      "       afas       0.88      0.95      0.92       150\n",
      "        exp       0.96      0.92      0.94       153\n",
      "         ez       0.97      0.92      0.95       154\n",
      "         ff       0.96      0.92      0.94       168\n",
      "         mc       0.82      0.87      0.84       157\n",
      "         mr       0.97      0.99      0.98       152\n",
      "      month       0.57      0.55      0.56       159\n",
      "        rfm       0.88      0.90      0.89       151\n",
      "         rr       0.53      0.48      0.50       151\n",
      "        sen       0.55      0.40      0.46       162\n",
      "       spec       0.39      0.17      0.24        53\n",
      "       tcmc       0.74      0.69      0.72       160\n",
      "          t       0.08      0.13      0.10        30\n",
      "      umlim       0.19      0.12      0.15        49\n",
      "       xbus       0.04      0.04      0.04        23\n",
      "       stud       1.00      0.98      0.99       146\n",
      "\n",
      "avg / total       0.74      0.74      0.73      3075\n",
      "\n"
     ]
    }
   ],
   "source": [
    "print(classification_report(y_test, y_pred, target_names=ridetype))"
   ]
  }
 ],
 "metadata": {
  "kernelspec": {
   "display_name": "ADS",
   "language": "python",
   "name": "ads"
  },
  "language_info": {
   "codemirror_mode": {
    "name": "ipython",
    "version": 3
   },
   "file_extension": ".py",
   "mimetype": "text/x-python",
   "name": "python",
   "nbconvert_exporter": "python",
   "pygments_lexer": "ipython3",
   "version": "3.5.0"
  },
  "toc": {
   "colors": {
    "hover_highlight": "#DAA520",
    "running_highlight": "#FF0000",
    "selected_highlight": "#FFD700"
   },
   "moveMenuLeft": true,
   "nav_menu": {
    "height": "512px",
    "width": "252px"
   },
   "navigate_menu": true,
   "number_sections": false,
   "sideBar": true,
   "threshold": 4,
   "toc_cell": false,
   "toc_section_display": "block",
   "toc_window_display": false
  }
 },
 "nbformat": 4,
 "nbformat_minor": 2
}
