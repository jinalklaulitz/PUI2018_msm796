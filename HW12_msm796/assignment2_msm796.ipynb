{
 "cells": [
  {
   "cell_type": "markdown",
   "metadata": {
    "run_control": {
     "frozen": false,
     "read_only": false
    }
   },
   "source": [
    "# TIME SERIES ANALYSIS\n",
    "\n",
    "# Goal: Find outliers, trends and periodicity in the MTA turnstyle data\n",
    "    \n",
    "\n",
    "## DATA:\n",
    "MTA subway fares. It is a complete dataset of\n",
    "rides logged by card swipes for 600 Manhattan stations.\n",
    "\n",
    "The data was organized  by Sina Kashuk at CUSP.\n",
    "\n",
    "It contains 23 different subway card types \n",
    "(e.g. monthly pass, daily pass, Act for Disability pass…) as follows:\n"
   ]
  },
  {
   "cell_type": "markdown",
   "metadata": {},
   "source": [
    "# Task 4:\n",
    "**Several stations show a prominent annual periodicity. Identify the 4 **stations** (indentify them by the index of their location in the data cube) that show the most prominent periodic trend on an annual period (52 weeks). (Can you figure out what the periodic peak in rides is due to?)**\n",
    "\n",
    "\n",
    "# Task 5: Extra Credit\n",
    "**Cluster the time series, i.e. identify groups of time series that look similar among each other, using the features you engineered:**\n",
    "- are there distinct clusters?\n",
    "- do they reflect the card type or station? \n",
    "\n",
    "To do this correctly you should whiten the data: each of your 4 features (column if you think about this as a table) should be standardized: \n",
    "subtract the mean for taht feature across the sample for each feature and divide the resulting feature vectore by its standard deviation\n",
    "\n",
    "feature = (feature - feature.mean() ) / feature.std()\n",
    "\n",
    "each \"feature\" vectors that results from the operation above should be 7667 long (or whatever the number of clean observcations you were left with)\n",
    "\n",
    "Note: if you wanted to cluster on all the time stamps, like you build the second model last week, you should standardize each observation (row) instead: \n",
    "\n",
    "observation = (observation -observation.mean()) / observation.std()\n",
    "each of these \"observation\" vectors should be 194 long (or whatever the number of clean observcations you were left with)\n"
   ]
  },
  {
   "cell_type": "code",
   "execution_count": 47,
   "metadata": {
    "ExecuteTime": {
     "end_time": "2018-11-29T19:12:12.847626Z",
     "start_time": "2018-11-29T19:12:11.947437Z"
    },
    "run_control": {
     "frozen": false,
     "read_only": false
    }
   },
   "outputs": [
    {
     "name": "stdout",
     "output_type": "stream",
     "text": [
      "Populating the interactive namespace from numpy and matplotlib\n"
     ]
    },
    {
     "name": "stderr",
     "output_type": "stream",
     "text": [
      "/usr/local/Anaconda3-5.0.0-Linux-x86_64/envs/PUI2016_Python3/lib/python3.5/site-packages/IPython/core/magics/pylab.py:161: UserWarning: pylab import has clobbered these variables: ['plt', 'random']\n",
      "`%matplotlib` prevents importing * from pylab and numpy\n",
      "  \"\\n`%matplotlib` prevents importing * from pylab and numpy\"\n"
     ]
    }
   ],
   "source": [
    "from __future__ import print_function, division\n",
    "import pylab as pl\n",
    "import numpy as np\n",
    "import pandas as pd\n",
    "\n",
    "from sklearn.ensemble  import RandomForestClassifier as rfc\n",
    "from sklearn.cross_validation import train_test_split\n",
    "#from sklearn.model_selection import train_test_split\n",
    "from sklearn.metrics import confusion_matrix\n",
    "from sklearn.metrics import classification_report\n",
    "import statsmodels.api as sm\n",
    "\n",
    "%pylab inline\n",
    "\n",
    "from IPython.display import Image\n",
    "from IPython.display import clear_output\n",
    "pl.rcParams['font.size'] = 20\n",
    "#Image(filename = \"Ridetypes.png\")"
   ]
  },
  {
   "cell_type": "markdown",
   "metadata": {
    "run_control": {
     "frozen": false,
     "read_only": false
    }
   },
   "source": [
    "This is the information I recieved about the data: \"each time series (per station, per ticket type) contains\n",
    "the number of swipes per week for 194 weeks \n",
    "from 05/19/2010 to 02/19/2014. \"\n",
    "\n",
    "The data are available to you as a python data cube here:\n",
    "\n",
    "you can load it as \n",
    "\n",
    "np.load(“MTA_Fare.npy\") and \n",
    "\n",
    "\n",
    "you will end up with a python numpy array of \n",
    "shape (600,23,194)\n",
    "\n",
    "** note that the missing values are inputted as -1**\n",
    "\n",
    "if you want to do things like algebra (summing time series for example) you need to take care of that! if you replace the -1 entries with NaN remember to use functions that can deal with nans:\n",
    "np.nanmean\n",
    "np.nansum..."
   ]
  },
  {
   "cell_type": "markdown",
   "metadata": {
    "run_control": {
     "frozen": false,
     "read_only": false
    }
   },
   "source": [
    "# HINTS: \n",
    "\n",
    "## notes and hints: \n",
    "\n",
    "   1) you could coerce the data into a pandas dataframe, but the data is truly a \"datacube\": a 3D dataset, and flattening it into a pandas dataframe will make it far more difficult to manipulate. I strongly recommand you keep it as a numpy array\n",
    "    \n",
    "   2) note that the missing values are inputted as -1. if you want to do things like algebra (summing time series for example) you need to take care of that. If you replace the -1 entries with NaN, you may need to use functions that explicitly know how to deal with NaN: for example, to sum use the np.nansum etc\n",
    "```\n",
    "np.nanmean(mtarides)\n",
    "np.nansum(mtarides)\n",
    "```\n",
    "as opposed to just \n",
    "```\n",
    "np.mean(mtarides)\n",
    "np.sum(mtarides)\n",
    "```\n",
    " \n",
    "## There are 600 stations, 23 card types. The trick to do this homework succesfully is to \"collaps\" (by averaging, or summing, depending on the question) the appropriate dimension in different parts of the homework: when you need to work at the station level (if I ask \"which station is the one that...\"), collaps the card type, when you need to work on the card type, collapse the stations. \n",
    "\n",
    "When I ask you \"which station ...\", you can sum or average over the ridership types for all station and reduce your data by a factor 23. When I ask you \"which rideship type ...\" you can sum or average over the stations and reduce your data by a factor 600! (or even better you could take a weighted average - *np.average(....weight=...)* -. The sum and average functions take an *axis* argument, which allows you to control which axis of the cube gets averaged. The dimension of the resulting object will allow you to check that you averaged over the right axis.\n",
    "\n",
    "\n",
    "# Possibly useful functions\n",
    "\n",
    "You are already familiar with and have already used  most of the functions I needed to perform this exercise. Here are some reminders and on few functions and methods that you may not have encountered yet which may be useful. You do not have to use them: there are many ways to do things and you do not have to solve this problem like I did, but here they are in case you need some help:\n",
    "\n",
    "* the numpy function np.where() returns the index where a condition is true. It is slow and inefficient but very intuitive and convenient\n",
    "\n",
    "\n",
    "* the nupy functions np.nansum(), np.sum(), np.nanmean() etc take an array and the axis along which to sum as inputs. If you want to sum over stations, or over rides, you can use these passing the appropriate axis number: axis=1 axis=2...\n",
    "\n",
    "\n",
    "*  the array methods \n",
    "```\n",
    "np.array.flatten()\n",
    "np.array.reshape()\n",
    "```\n",
    "     allow you to manipulate the shape of an array, for example if you want to run analysis on each individual time series, each station and each ridership type, which I recommand if you want to work on clustering for extra credit (resulting into 600*23=13800 time series) you can flatten the array as\n",
    "     \n",
    "```\n",
    "mtaarray.flatten()\n",
    "```\n",
    "\n",
    "    which returns the flatten array:\n",
    "\n",
    "```\n",
    "mtaRides = np.load(\"MTA_Fare.npy\")\n",
    "\n",
    "mtaRides.shape\n",
    "Out[10]: (600, 23, 194)\n",
    "\n",
    "mtaRides.flatten().shape\n",
    "Out[11]: (2677200,)\n",
    "````"
   ]
  },
  {
   "cell_type": "code",
   "execution_count": 48,
   "metadata": {},
   "outputs": [],
   "source": [
    "#declare libraries and parameters\n",
    "try:\n",
    "    import urllib2 as urllib\n",
    "except ImportError:\n",
    "    import urllib.request as urllib\n",
    "import datetime\n",
    "from dateutil.relativedelta import relativedelta \n",
    "import os\n",
    "import requests \n",
    "import zipfile \n",
    "import io \n",
    "import pandas as pd\n",
    "%matplotlib inline\n",
    "import matplotlib\n",
    "import numpy as np\n",
    "import matplotlib.pyplot as plt\n",
    "import subprocess as sp\n",
    "import os\n",
    "import time\n",
    "import pylab as pl\n",
    "import scipy.stats\n",
    "from shapely.geometry import Point\n",
    "import statsmodels.formula.api as smf\n",
    "import geopandas as gpd\n",
    "import random\n",
    "import json\n",
    "from fiona.crs import from_epsg\n",
    "import pysal as ps\n",
    "import math\n",
    "import matplotlib.pylab as plt\n",
    "import seaborn as sbn\n",
    "%matplotlib inline\n",
    "from sklearn.decomposition import PCA\n",
    "from sklearn import preprocessing\n",
    "from sklearn import linear_model\n",
    "from sklearn.linear_model import LinearRegression\n",
    "#from sklearn.model_selection import train_test_split\n",
    "from mpl_toolkits.mplot3d import Axes3D\n",
    "from sklearn import datasets\n",
    "import statsmodels.api as sm\n",
    "\n",
    "\n",
    "#declare enviromental variable\n",
    "puidata = os.getenv(\"PUIDATA\")\n",
    "if puidata is None:\n",
    "    os.environ[\"PUIDATA\"] = \"%s/PUIdata\"%os.getenv(\"HOME\")\n",
    "    puidata = os.getenv(\"PUIDATA\")"
   ]
  },
  {
   "cell_type": "markdown",
   "metadata": {
    "ExecuteTime": {
     "end_time": "2018-11-29T19:44:58.918841Z",
     "start_time": "2018-11-29T19:44:58.906154Z"
    },
    "run_control": {
     "frozen": false,
     "marked": false,
     "read_only": false
    }
   },
   "source": [
    "# read in data as instructed above"
   ]
  },
  {
   "cell_type": "code",
   "execution_count": 49,
   "metadata": {},
   "outputs": [],
   "source": [
    "#import data\n",
    "url_list = ['https://github.com/fedhere/PUI2018_fb55/raw/master/HW11_fb55/MTA_Fare.npy',\n",
    "'https://github.com/fedhere/PUI2018_fb55/raw/master/HW11_fb55/MTA_Fare2.npy',\n",
    "'https://github.com/fedhere/PUI2018_fb55/raw/master/HW11_fb55/MTA_Fare_py3.npy']\n",
    "urllib.urlretrieve(url_list[0], puidata + 'MTA_Fare.npy')\n",
    "mta = np.load(puidata + 'MTA_Fare.npy')"
   ]
  },
  {
   "cell_type": "code",
   "execution_count": 50,
   "metadata": {
    "ExecuteTime": {
     "end_time": "2018-11-29T19:08:39.025813Z",
     "start_time": "2018-11-29T19:08:38.994634Z"
    },
    "run_control": {
     "frozen": false,
     "read_only": false
    }
   },
   "outputs": [
    {
     "name": "stdout",
     "output_type": "stream",
     "text": [
      "MTA array shape: (600, 23, 194)\n",
      "MTA array shape summed over all ride types: (600, 194)\n"
     ]
    }
   ],
   "source": [
    "print (\"MTA array shape:\", mta.shape)\n",
    "print (\"MTA array shape summed over all ride types:\", np.nansum(mta,axis=1).shape)"
   ]
  },
  {
   "cell_type": "markdown",
   "metadata": {
    "run_control": {
     "frozen": false,
     "read_only": false
    }
   },
   "source": [
    "create a \"ride types\" list based on the metadata I was given"
   ]
  },
  {
   "cell_type": "code",
   "execution_count": 51,
   "metadata": {
    "ExecuteTime": {
     "end_time": "2018-11-29T19:20:41.401337Z",
     "start_time": "2018-11-29T19:20:41.395266Z"
    },
    "run_control": {
     "frozen": false,
     "read_only": false
    }
   },
   "outputs": [
    {
     "name": "stdout",
     "output_type": "stream",
     "text": [
      "number of ride types 23\n"
     ]
    }
   ],
   "source": [
    "#ridership type list\n",
    "ridetype = np.array(['10t', '14d', '1d', '2t', '30d', '7d', 'ada', 'afas', 'exp','ez',\n",
    "            'ff','mc','mr','month','rfm','rr','sen','spec','tcmc','t',\n",
    "            'umlim','xbus','stud'])\n",
    "print(\"number of ride types\", len(ridetype))"
   ]
  },
  {
   "cell_type": "markdown",
   "metadata": {
    "run_control": {
     "frozen": false,
     "read_only": false
    }
   },
   "source": [
    "You need to create a date range to plot properly. \n",
    "After that I create a date range (for example with pd.date_range())\n",
    "in a log plot to enhance the visibility along the y axis (np.log10(weightedrides[i]))\n",
    "all time series, each station each ride type, look like this (pretty ugly)"
   ]
  },
  {
   "cell_type": "code",
   "execution_count": null,
   "metadata": {
    "ExecuteTime": {
     "end_time": "2018-11-29T17:26:15.794333Z",
     "start_time": "2018-11-29T17:23:42.598919Z"
    },
    "run_control": {
     "frozen": false,
     "read_only": false
    }
   },
   "outputs": [],
   "source": [
    "# plot the data in natural space\n",
    "# then plot the  data in log space (may take a while to plot because of the very inefficient double for loop - \n",
    "# the counter needs to get to 23)\n",
    "pl.figure(figsize=(12,5))\n",
    "for station in range(mta.shape[0]): #iterate over station\n",
    "    for card in range(mta.shape[1]): #iterate over card type\n",
    "        plotable = mta[station,card,]\n",
    "        plt.plot(range(len(plotable)),np.log10(plotable))\n",
    "plt.xlabel('weeks since 5/21/2010',fontsize=15)\n",
    "plt.ylabel('swipes (log10)',fontsize=15)\n",
    "plt.show()"
   ]
  },
  {
   "cell_type": "markdown",
   "metadata": {
    "run_control": {
     "frozen": false,
     "read_only": false
    }
   },
   "source": [
    "#### Figure 2: time series for all ride types and all stations in semi-log space"
   ]
  },
  {
   "cell_type": "markdown",
   "metadata": {},
   "source": [
    "# 4. Fourier transform\n",
    "from the numpy package you will nees only the \n",
    "np.fft.rfft() to take the fourier transform\n",
    "\n",
    "and\n",
    "\n",
    "np.fft.rfftfreq() to create a meaningful x axis "
   ]
  },
  {
   "cell_type": "code",
   "execution_count": 41,
   "metadata": {},
   "outputs": [],
   "source": [
    "#create deep copy so the original won't be affected, convert to float because nans are considered floats\n",
    "mta_nans = mta.copy().astype('float')\n",
    "#turn -1s to nan values\n",
    "mta_nans[mta_nans==-1] = np.nan\n",
    "#sum all the values by station and cardtype, so i have 1-d vector of the dates\n",
    "sum_mta_nans = nansum(mta_nans,axis=1)\n",
    "\n",
    "data_fft = (np.fft.rfft(sum_mta_nans[0]).real)**2"
   ]
  },
  {
   "cell_type": "code",
   "execution_count": 46,
   "metadata": {},
   "outputs": [
    {
     "data": {
      "text/plain": [
       "(600, 194)"
      ]
     },
     "execution_count": 46,
     "metadata": {},
     "output_type": "execute_result"
    }
   ],
   "source": [
    "sum_mta_nans.shape"
   ]
  },
  {
   "cell_type": "code",
   "execution_count": 60,
   "metadata": {},
   "outputs": [
    {
     "name": "stderr",
     "output_type": "stream",
     "text": [
      "/usr/local/Anaconda3-5.0.0-Linux-x86_64/envs/PUI2016_Python3/lib/python3.5/site-packages/matplotlib/font_manager.py:1316: UserWarning: findfont: Font family ['sans-serif'] not found. Falling back to DejaVu Sans\n",
      "  (prop.get_family(), self.defaultFamily[fontext]))\n"
     ]
    },
    {
     "data": {
      "image/png": "[encoded data removed]",
      "text/plain": [
       "<matplotlib.figure.Figure at 0x7ff69a716f60>"
      ]
     },
     "metadata": {},
     "output_type": "display_data"
    }
   ],
   "source": [
    "N=sum_mta_nans.shape[1]\n",
    "sample_rate=1\n",
    "\n",
    "fig=pl.figure(figsize=(15,5))\n",
    "ax=fig.add_subplot(111)\n",
    "ax.plot(np.fft.rfftfreq(N, 1.0/sample_rate), (data_fft), 'o', ms=20)\n",
    "ax.plot(np.fft.rfftfreq(N, 1.0/sample_rate), (data_fft), '-')\n",
    "\n",
    "ax.set_xticklabels([ \"%.2f\"%(fx) for fx in ax.get_xticks()], fontsize=20)\n",
    "pl.xlabel(\"frequency (1/seconds - Hz)\", fontsize=20)\n",
    "pl.ylabel(\"Power\", fontsize=20)\n",
    "pl.title(\"Power Spectrum\", fontsize=20);"
   ]
  },
  {
   "cell_type": "code",
   "execution_count": null,
   "metadata": {},
   "outputs": [],
   "source": []
  }
 ],
 "metadata": {
  "kernelspec": {
   "display_name": "PUI2016_Python3",
   "language": "python",
   "name": "pui2016_python3"
  },
  "language_info": {
   "codemirror_mode": {
    "name": "ipython",
    "version": 3
   },
   "file_extension": ".py",
   "mimetype": "text/x-python",
   "name": "python",
   "nbconvert_exporter": "python",
   "pygments_lexer": "ipython3",
   "version": "3.5.4"
  },
  "toc": {
   "colors": {
    "hover_highlight": "#DAA520",
    "running_highlight": "#FF0000",
    "selected_highlight": "#FFD700"
   },
   "moveMenuLeft": true,
   "nav_menu": {
    "height": "512px",
    "width": "252px"
   },
   "navigate_menu": true,
   "number_sections": false,
   "sideBar": true,
   "threshold": 4,
   "toc_cell": false,
   "toc_section_display": "block",
   "toc_window_display": false
  }
 },
 "nbformat": 4,
 "nbformat_minor": 2
}
